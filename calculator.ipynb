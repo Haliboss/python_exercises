{
  "nbformat": 4,
  "nbformat_minor": 0,
  "metadata": {
    "colab": {
      "provenance": []
    },
    "kernelspec": {
      "name": "python3",
      "display_name": "Python 3"
    },
    "language_info": {
      "name": "python"
    }
  },
  "cells": [
    {
      "cell_type": "code",
      "execution_count": 5,
      "metadata": {
        "id": "CHxqx_kPzGC3"
      },
      "outputs": [],
      "source": [
        "def calculator (a,b,symbol):\n",
        "  if symbol == '+':\n",
        "    print (a+b)\n",
        "  elif symbol == '-':\n",
        "    print(a-b)\n",
        "  elif symbol == '/':\n",
        "    print (a/b)\n",
        "  elif symbol == '*':\n",
        "    print(a*b)\n",
        "  else :\n",
        "    print('Please input straight operation!')"
      ]
    },
    {
      "cell_type": "code",
      "source": [
        "calulator(3,5,'+')"
      ],
      "metadata": {
        "colab": {
          "base_uri": "https://localhost:8080/"
        },
        "id": "L164KLr90t6j",
        "outputId": "e218ab39-1f00-44a4-8752-dc3540534995"
      },
      "execution_count": 6,
      "outputs": [
        {
          "output_type": "stream",
          "name": "stdout",
          "text": [
            "8\n"
          ]
        }
      ]
    },
    {
      "cell_type": "code",
      "source": [],
      "metadata": {
        "id": "1rk5ZiYU04w6"
      },
      "execution_count": null,
      "outputs": []
    }
  ]
}