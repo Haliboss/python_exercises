{
  "nbformat": 4,
  "nbformat_minor": 0,
  "metadata": {
    "colab": {
      "provenance": [],
      "authorship_tag": "ABX9TyNVicDywcxlCVtnS/7E9dKD",
      "include_colab_link": true
    },
    "kernelspec": {
      "name": "python3",
      "display_name": "Python 3"
    },
    "language_info": {
      "name": "python"
    }
  },
  "cells": [
    {
      "cell_type": "markdown",
      "metadata": {
        "id": "view-in-github",
        "colab_type": "text"
      },
      "source": [
        "<a href=\"https://colab.research.google.com/github/MucahitKucuktepe/python_exercises/blob/main/Guess_number.ipynb\" target=\"_parent\"><img src=\"https://colab.research.google.com/assets/colab-badge.svg\" alt=\"Open In Colab\"/></a>"
      ]
    },
    {
      "cell_type": "code",
      "execution_count": 5,
      "metadata": {
        "id": "qpF2A_HXTfHm"
      },
      "outputs": [],
      "source": [
        "import random\n",
        "target_number=random.randint(0,10)\n",
        "guess_number=int(input('guess_number: '))\n",
        "while guess_number!=target_number:\n",
        "  print('Try Again!')\n",
        "  if guess_number - target_number >=2:\n",
        "    print('2  azalt')\n",
        "  elif target_number - guess_number >=2:\n",
        "    print('2 artır' )\n",
        "  guess_number=int(input('guess_number: '))\n",
        "  if guess_number==target_number :\n",
        "      print('Well guessed!')\n",
        "print('GAME OVER!')\n"
      ]
    },
    {
      "cell_type": "code",
      "source": [],
      "metadata": {
        "id": "s1AKoz7ATmYJ"
      },
      "execution_count": null,
      "outputs": []
    }
  ]
}