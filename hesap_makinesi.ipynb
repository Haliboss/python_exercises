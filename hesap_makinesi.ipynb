{
  "cells": [
    {
      "cell_type": "markdown",
      "metadata": {
        "id": "view-in-github",
        "colab_type": "text"
      },
      "source": [
        "<a href=\"https://colab.research.google.com/github/Haliboss/python_exercises/blob/main/hesap_makinesi.ipynb\" target=\"_parent\"><img src=\"https://colab.research.google.com/assets/colab-badge.svg\" alt=\"Open In Colab\"/></a>"
      ]
    },
    {
      "cell_type": "code",
      "execution_count": null,
      "metadata": {
        "id": "N-QBjSspiKiZ"
      },
      "outputs": [],
      "source": [
        " #  KIZLARIN HESAP MAKİNESİ"
      ]
    },
    {
      "cell_type": "code",
      "execution_count": null,
      "metadata": {
        "colab": {
          "base_uri": "https://localhost:8080/"
        },
        "id": "JV5Y0xYKiLI3",
        "outputId": "683cba02-53ff-4672-eb8c-1824cc2547a1"
      },
      "outputs": [
        {
          "output_type": "stream",
          "name": "stdout",
          "text": [
            "MENU\n",
            "0-Çıkış\n",
            "1-Toplama\n",
            "2-Çıkarma\n",
            "3-Çarpma\n",
            "4-Bölme\n",
            "5-Karekök\n",
            "6-Üs alma\n",
            "7-Faktöriyel\n",
            "Menüden bir işlem seçiniz (0-1-2-3-4-5-6-7):3\n",
            "Bir sayı giriniz:50000\n",
            "Şimdi başka bir sayı giriniz:12\n",
            "Cevabınız: 600000.0\n"
          ]
        }
      ],
      "source": [
        "def toplama(a, b):\n",
        "  return a + b\n",
        "def cikarma(a, b):\n",
        "  return a - b\n",
        "def carpma(a, b):\n",
        "  return a *b\n",
        "def bolme (a, b):\n",
        "  if b == 0:\n",
        "    print(\"Tanımsız\")\n",
        "  else:\n",
        "    return a / b\n",
        "def karekok(a):\n",
        "  return a ** 0.5\n",
        "def us_alma(a, b):\n",
        "  return a **b\n",
        "def faktoriyel(a):\n",
        "  if a == 0:\n",
        "    return 1\n",
        "  else:\n",
        "    return a * faktoriyel(a - 1)\n",
        "\n",
        "\n",
        "print(\"MENU\")\n",
        "print(\"0-Çıkış\")\n",
        "print(\"1-Toplama\")\n",
        "print(\"2-Çıkarma\")\n",
        "print(\"3-Çarpma\")\n",
        "print(\"4-Bölme\")\n",
        "print(\"5-Karekök\")\n",
        "print(\"6-Üs alma\")\n",
        "print(\"7-Faktöriyel\")\n",
        "\n",
        "bas_secim = input(\"Menüden bir işlem seçiniz (0-1-2-3-4-5-6-7):\")\n",
        "\n",
        "\n",
        "if bas_secim == \"1\":\n",
        "  sayi_1 = float(input(\"Bir sayı giriniz:\"))\n",
        "  sayi_2 = float(input(\"Şimdi başka bir sayı giriniz:\"))\n",
        "\n",
        "  print(\"Cevabınız:\", toplama(sayi_1, sayi_2))\n",
        "\n",
        "\n",
        "elif bas_secim == \"2\":\n",
        "  sayi_1 = float(input(\"Bir sayı giriniz:\"))\n",
        "  sayi_2 = float(input(\"Şimdi başka bir sayı giriniz:\"))\n",
        "\n",
        "  print(\"Cevabınız:\", cikarma(sayi_1, sayi_2))\n",
        "\n",
        "\n",
        "elif bas_secim == \"3\":\n",
        "  sayi_1 = float(input(\"Bir sayı giriniz:\"))\n",
        "  sayi_2 = float(input(\"Şimdi başka bir sayı giriniz:\"))\n",
        "\n",
        "  print(\"Cevabınız:\", carpma(sayi_1, sayi_2))\n",
        "\n",
        "\n",
        "elif bas_secim == \"4\":\n",
        "  sayi_1 = float(input(\"Bir sayı giriniz:\"))\n",
        "  sayi_2 = float(input(\"Şimdi başka bir sayı giriniz:\"))\n",
        "\n",
        "  print(\"Cevabınız:\", bolme(sayi_1, sayi_2))\n",
        "\n",
        "\n",
        "elif bas_secim == \"5\":\n",
        "  sayi_1 = float(input(\"Bir sayı giriniz:\"))\n",
        "\n",
        "  print(\"Cevabınız:\", karekok(sayi_1))\n",
        "\n",
        "\n",
        "elif bas_secim == \"6\":\n",
        "  sayi_1 = float(input(\"Bir sayı giriniz:\"))\n",
        "  sayi_2 = float(input(\"Şimdi başka bir sayı giriniz:\"))\n",
        "\n",
        "  print(\"Cevabınız:\", us_alma(sayi_1, sayi_2))\n",
        "\n",
        "\n",
        "elif bas_secim == \"7\":\n",
        "  sayi_1 = float(input(\"Bir sayı giriniz:\"))\n",
        "\n",
        "  print(\"Cevabınız:\", faktoriyel(sayi_1))\n",
        "\n",
        "\n",
        "elif bas_secim == \"0\":\n",
        "  print(\"Hesap makinesine elveda:(\")\n",
        "else:\n",
        "  print(\"Bir Hata Gördüm Sanki!!!!!\")\n"
      ]
    },
    {
      "cell_type": "code",
      "execution_count": null,
      "metadata": {
        "id": "fw0Xn_o1iLLw",
        "colab": {
          "base_uri": "https://localhost:8080/"
        },
        "outputId": "2240d41e-d66b-4385-f54c-bceaf0090647"
      },
      "outputs": [
        {
          "output_type": "stream",
          "name": "stdout",
          "text": [
            "Sayımızı girelim ve bekleyelim:8\n",
            "8 asal sayı değildir.\n"
          ]
        }
      ],
      "source": [
        "# ASAL SAYILAR\n",
        "def is_prime(sayi):\n",
        "  match sayi:\n",
        "    case 1:\n",
        "      return False\n",
        "    case 2:\n",
        "      return True\n",
        "    case _ if sayi < 1:\n",
        "      return False\n",
        "    case _:\n",
        "      for i in range(2, int(sayi ** 0.5) + 1):\n",
        "        if sayi % i == 0:\n",
        "          return False\n",
        "        else:\n",
        "          return True\n",
        "sayi = int(input(\"Sayımızı girelim ve bekleyelim:\"))\n",
        "if is_prime(sayi):\n",
        "  print(sayi, \"asal sayıdır.\")\n",
        "else:\n",
        "  print(sayi, \"asal sayı değildir.\")"
      ]
    },
    {
      "cell_type": "code",
      "execution_count": null,
      "metadata": {
        "id": "g8SGIrISiLOL"
      },
      "outputs": [],
      "source": []
    },
    {
      "cell_type": "code",
      "execution_count": null,
      "metadata": {
        "id": "b30J-UCoiLQW"
      },
      "outputs": [],
      "source": []
    },
    {
      "cell_type": "code",
      "execution_count": null,
      "metadata": {
        "id": "JZB80GjwiLUx"
      },
      "outputs": [],
      "source": []
    },
    {
      "cell_type": "code",
      "execution_count": null,
      "metadata": {
        "id": "3VigLhW1iLXv"
      },
      "outputs": [],
      "source": []
    }
  ],
  "metadata": {
    "colab": {
      "provenance": [],
      "include_colab_link": true
    },
    "kernelspec": {
      "display_name": "Python 3",
      "name": "python3"
    },
    "language_info": {
      "name": "python"
    }
  },
  "nbformat": 4,
  "nbformat_minor": 0
}